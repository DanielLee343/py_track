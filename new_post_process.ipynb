{
 "cells": [
  {
   "cell_type": "code",
   "execution_count": 1,
   "metadata": {},
   "outputs": [],
   "source": [
    "import pandas as pd\n",
    "import os\n",
    "import matplotlib.pyplot as plt\n",
    "\n",
    "org_heats_dir = \"/home/lyuze/workspace/py_track\"\n",
    "interested_file = \"obj_dump.txt\"\n",
    "org_heats_file = os.path.join(org_heats_dir, interested_file)"
   ]
  },
  {
   "cell_type": "code",
   "execution_count": 2,
   "metadata": {},
   "outputs": [
    {
     "name": "stdout",
     "output_type": "stream",
     "text": [
      "timestamp    float64\n",
      "addr           int64\n",
      "diff1          int64\n",
      "diff2          int64\n",
      "diff3          int64\n",
      "diff4          int64\n",
      "diff5          int64\n",
      "diff6          int64\n",
      "diff7          int64\n",
      "diff8          int64\n",
      "diff9          int64\n",
      "diff10         int64\n",
      "diff11         int64\n",
      "diff12         int64\n",
      "diff13         int64\n",
      "diff14         int64\n",
      "diff15         int64\n",
      "diff16         int64\n",
      "diff17         int64\n",
      "diff18         int64\n",
      "diff19         int64\n",
      "diff20         int64\n",
      "sizeof         int64\n",
      "dtype: object\n"
     ]
    }
   ],
   "source": [
    "columns = [\"timestamp\", \"addr\",\n",
    "           \"diff1\", \"diff2\", \"diff3\", \"diff4\", \"diff5\",\n",
    "           \"diff6\", \"diff7\", \"diff8\", \"diff9\", \"diff10\",\n",
    "           \"diff11\", \"diff12\", \"diff13\", \"diff14\", \"diff15\",\n",
    "           \"diff16\", \"diff17\", \"diff18\", \"diff19\", \"diff20\",\n",
    "           \"sizeof\"\n",
    "           ]\n",
    "org_df = pd.read_csv(org_heats_file, sep=\"\\t\", header=None, names=columns)\n",
    "print(org_df.dtypes)"
   ]
  },
  {
   "cell_type": "code",
   "execution_count": 3,
   "metadata": {},
   "outputs": [],
   "source": [
    "# dump upper val\n",
    "# string_to_delete = '0x7ffff7e70d80'\n",
    "\n",
    "# filtered_df = org_df[org_df['addr'] != string_to_delete]\n",
    "# filtered_df['addr'] = filtered_df['addr'].apply(lambda x: int(x, 16))\n",
    "# new_file = \"obj_dump_no_upper.txt\"\n",
    "# new_file_path = os.path.join(org_heats_dir, new_file)\n",
    "# filtered_df.to_csv(new_file_path, sep='\\t', index=False, header=False)\n",
    "# org_df = filtered_df\n",
    "\n",
    "# org_df['addr'] = org_df['addr'].apply(lambda x: int(x, 16))"
   ]
  },
  {
   "cell_type": "code",
   "execution_count": 3,
   "metadata": {},
   "outputs": [],
   "source": [
    "# check the range of obj_dump.txt\n",
    "condition_no93 = org_df['addr'].astype(str).str.startswith('9')\n",
    "with_93 = org_df[condition_no93]\n",
    "org_df = org_df[~condition_no93]\n",
    "# condition_no34 = org_df['addr'].astype(str).str.startswith('34')\n",
    "# org_df = org_df[~condition_no34]"
   ]
  },
  {
   "cell_type": "code",
   "execution_count": 4,
   "metadata": {},
   "outputs": [],
   "source": [
    "# sort by time and addr and dump to file, probably no need at this time\n",
    "org_df_sorted = org_df.sort_values(by=['timestamp', 'addr'])\n",
    "sorted_file = \"obj_dump_sorted.txt\"\n",
    "sorted_file_path = os.path.join(org_heats_dir, sorted_file)\n",
    "org_df_sorted.to_csv(sorted_file_path, sep='\\t', index=False, header=False)\n",
    "\n",
    "org_df = org_df_sorted"
   ]
  },
  {
   "cell_type": "code",
   "execution_count": null,
   "metadata": {},
   "outputs": [],
   "source": [
    "# calc 93 all & diff\n",
    "print(max(with_93['addr']))\n",
    "print(with_93)\n",
    "\n",
    "with_93_file = \"matmul_93.csv\"\n",
    "with_93_file_path = os.path.join(org_heats_dir, with_93_file)\n",
    "with_93.to_csv(with_93_file_path, sep='\\t', index=False, header=False)\n",
    "\n",
    "with_93_changed = with_93[(with_93[\"diff\"] != 0)]\n",
    "with_93_changed_file = \"matmul_93_diff.csv\"\n",
    "with_93_changed_file_path = os.path.join(org_heats_dir, with_93_changed_file)\n",
    "print(\"93 changed: \", len(with_93_changed))\n",
    "with_93_changed.to_csv(with_93_changed_file_path,\n",
    "                       sep='\\t', index=False, header=False)"
   ]
  },
  {
   "cell_type": "code",
   "execution_count": null,
   "metadata": {},
   "outputs": [],
   "source": [
    "# plot 93 all & diff\n",
    "import subprocess\n",
    "with_93_png = \"matmul_93.png\"\n",
    "command = \"gnuplot -e \\\"output_file='{}'; input_file='{}'\\\" ./plot.gnuplot \".format(\n",
    "    with_93_png, with_93_file_path)\n",
    "completed_process = subprocess.run(\n",
    "    command, shell=True, check=True, stdout=subprocess.PIPE, stderr=subprocess.PIPE, text=True)\n",
    "\n",
    "if len(with_93_changed) != 0:\n",
    "    with_93_png_changed = \"matmul_93_diff.png\"\n",
    "    command = \"gnuplot -e \\\"output_file='{}'; input_file='{}'\\\" ./plot.gnuplot \".format(\n",
    "        with_93_png_changed, with_93_changed_file_path)\n",
    "    completed_process = subprocess.run(\n",
    "        command, shell=True, check=True, stdout=subprocess.PIPE, stderr=subprocess.PIPE, text=True)"
   ]
  },
  {
   "cell_type": "code",
   "execution_count": 5,
   "metadata": {},
   "outputs": [
    {
     "name": "stdout",
     "output_type": "stream",
     "text": [
      "all min: 140732688151984 max: 140737349939296\n",
      "changed:  93306 min: 140732688186992 max: 140737349919616\n"
     ]
    }
   ],
   "source": [
    "import subprocess\n",
    "# cur_idx_file_png = \"matmul_all.png\"\n",
    "# command = \"gnuplot -e \\\"output_file='{}'; input_file='{}'\\\" ./plot.gnuplot \".format(\n",
    "#     cur_idx_file_png, sorted_file_path)\n",
    "# completed_process = subprocess.run(\n",
    "#     command, shell=True, check=True, stdout=subprocess.PIPE, stderr=subprocess.PIPE, text=True)\n",
    "print(\"all min:\", org_df_sorted['addr'].min(),\n",
    "      \"max:\", org_df_sorted['addr'].max())\n",
    "\n",
    "diff1 = (org_df_sorted['diff1'] != 0)\n",
    "diff2 = (org_df_sorted['diff2'] != 0)\n",
    "diff3 = (org_df_sorted['diff3'] != 0)\n",
    "diff4 = (org_df_sorted['diff4'] != 0)\n",
    "diff5 = (org_df_sorted['diff5'] != 0)\n",
    "\n",
    "diff6 = (org_df_sorted['diff6'] != 0)\n",
    "diff7 = (org_df_sorted['diff7'] != 0)\n",
    "diff8 = (org_df_sorted['diff8'] != 0)\n",
    "diff9 = (org_df_sorted['diff9'] != 0)\n",
    "diff10 = (org_df_sorted['diff10'] != 0)\n",
    "\n",
    "diff11 = (org_df_sorted['diff11'] != 0)\n",
    "diff12 = (org_df_sorted['diff12'] != 0)\n",
    "diff13 = (org_df_sorted['diff13'] != 0)\n",
    "diff14 = (org_df_sorted['diff14'] != 0)\n",
    "diff15 = (org_df_sorted['diff15'] != 0)\n",
    "\n",
    "diff16 = (org_df_sorted['diff16'] != 0)\n",
    "diff17 = (org_df_sorted['diff17'] != 0)\n",
    "diff18 = (org_df_sorted['diff18'] != 0)\n",
    "diff19 = (org_df_sorted['diff19'] != 0)\n",
    "diff20 = (org_df_sorted['diff20'] != 0)\n",
    "\n",
    "\n",
    "org_df_changed = org_df_sorted[diff2 | diff3 | diff4 | diff5\n",
    "                               | diff6 | diff7 | diff8 | diff9 | diff10\n",
    "                               | diff11 | diff12 | diff13 | diff14 | diff15\n",
    "                               | diff16 | diff17 | diff18 | diff19 | diff20\n",
    "                               ]  # cannot contain diff1\n",
    "# org_df_changed = org_df_sorted[(org_df_sorted[\"diff\"] != 0)]\n",
    "changed_file = \"matmul_diff.csv\"\n",
    "changed_file_path = os.path.join(org_heats_dir, changed_file)\n",
    "org_df_changed.to_csv(changed_file_path, sep='\\t', index=False, header=False)\n",
    "print(\"changed: \", len(org_df_changed), \"min:\", org_df_changed['addr'].min(),\n",
    "      \"max:\",  org_df_changed['addr'].max())\n",
    "\n",
    "\n",
    "# cur_idx_file_png = \"matmul_diff.png\"\n",
    "# command = \"gnuplot -e \\\"output_file='{}'; input_file='{}'\\\" ./plot.gnuplot \".format(\n",
    "#     cur_idx_file_png, cur_file_path)\n",
    "# completed_process = subprocess.run(\n",
    "#     command, shell=True, check=True, stdout=subprocess.PIPE, stderr=subprocess.PIPE, text=True)"
   ]
  },
  {
   "cell_type": "code",
   "execution_count": 20,
   "metadata": {},
   "outputs": [
    {
     "name": "stdout",
     "output_type": "stream",
     "text": [
      "4281254      44\n",
      "4123858      44\n",
      "4037512      44\n",
      "4626751      44\n",
      "4599697      44\n",
      "           ... \n",
      "4750084    5448\n",
      "4750064    5448\n",
      "4750215    5448\n",
      "4750320    5448\n",
      "4750351    5448\n",
      "Name: sizeof, Length: 4859138, dtype: int64\n"
     ]
    },
    {
     "data": {
      "image/png": "[encoded data removed]",
      "text/plain": [
       "<Figure size 640x480 with 1 Axes>"
      ]
     },
     "metadata": {},
     "output_type": "display_data"
    }
   ],
   "source": [
    "# plot cdf of obj size of org_df_changed\n",
    "sorted_values = org_df_changed['sizeof'].sort_values()\n",
    "print(sorted_values)\n",
    "cdf = sorted_values.rank(method='average', pct=True)\n",
    "plt.plot(sorted_values, cdf, linestyle='-')\n",
    "plt.xlabel('Hot PyObject Size (bytes)')\n",
    "plt.ylabel('CDF')\n",
    "plt.savefig('matmul_600_changed_size_cdf.png')"
   ]
  },
  {
   "cell_type": "code",
   "execution_count": 6,
   "metadata": {},
   "outputs": [],
   "source": [
    "def plot_scatter_map(output_file, data_file, x_relative, y_relative, x_min, y_min):\n",
    "    x_range = [0, x_relative]\n",
    "    y_range = [0, y_relative]\n",
    "    gnuplot_cmd = \"\"\"\n",
    "        set terminal pngcairo;\n",
    "        set output '%s';\n",
    "        set key off;\n",
    "        set xlabel 'Time (s)';\n",
    "        set ylabel 'Address (mb)';\n",
    "        plot '%s' using ($1 - %f):(($2 - %d)/ (1024 * 1024)) with points pointtype 1 pointsize 0.8\"\"\" % (output_file,\n",
    "                                                                                                         data_file, x_min, y_min)\n",
    "    subprocess.call(['gnuplot', '-e', gnuplot_cmd])"
   ]
  },
  {
   "cell_type": "code",
   "execution_count": null,
   "metadata": {},
   "outputs": [],
   "source": [
    "# for separated slow_idx, no need for now\n",
    "all_slow_changed_df = []\n",
    "all_slow_changed_df.clear()\n",
    "slow_0_cond = (org_df_changed['slow_idx'] == 0)\n",
    "slow_1_cond = (org_df_changed['slow_idx'] == 1)\n",
    "slow_2_cond = (org_df_changed['slow_idx'] == 2)\n",
    "slow_3_cond = (org_df_changed['slow_idx'] == 3)\n",
    "slow_4_cond = (org_df_changed['slow_idx'] == 4)\n",
    "slow_5_cond = (org_df_changed['slow_idx'] == 5)\n",
    "org_df_changed_slow_0 = org_df_changed[slow_0_cond]\n",
    "org_df_changed_slow_1 = org_df_changed[slow_1_cond]\n",
    "org_df_changed_slow_2 = org_df_changed[slow_2_cond]\n",
    "org_df_changed_slow_3 = org_df_changed[slow_3_cond]\n",
    "org_df_changed_slow_4 = org_df_changed[slow_4_cond]\n",
    "org_df_changed_slow_5 = org_df_changed[slow_5_cond]\n",
    "\n",
    "all_slow_changed_df.append(org_df_changed_slow_0)\n",
    "all_slow_changed_df.append(org_df_changed_slow_1)\n",
    "all_slow_changed_df.append(org_df_changed_slow_2)\n",
    "all_slow_changed_df.append(org_df_changed_slow_3)\n",
    "all_slow_changed_df.append(org_df_changed_slow_4)\n",
    "all_slow_changed_df.append(org_df_changed_slow_5)\n",
    "\n",
    "for i in range(6):\n",
    "    # dump\n",
    "    changed_file_path = os.path.join(\n",
    "        org_heats_dir, \"matmul_diff_slow_{}.csv\".format(i))\n",
    "    all_slow_changed_df[i].to_csv(\n",
    "        changed_file_path, sep='\\t', index=False, header=False)\n",
    "    if len(all_slow_changed_df[i]) == 0:\n",
    "        continue\n",
    "    print(\"slow_idx: \", i, \"changed: \", len(all_slow_changed_df[i]), \"min:\", all_slow_changed_df[i]['addr'].min(),\n",
    "          \"max:\",  all_slow_changed_df[i]['addr'].max())\n",
    "\n",
    "    # plot\n",
    "    x_rela_changed = all_slow_changed_df[i]['timestamp'].max(\n",
    "    ) - all_slow_changed_df[i]['timestamp'].min()\n",
    "    y_rela_changed = (all_slow_changed_df[i]['addr'].max() -\n",
    "                      all_slow_changed_df[i]['addr'].min()) / (1024 * 1024)\n",
    "    x_min_changed = all_slow_changed_df[i]['timestamp'].min()\n",
    "    y_min_changed = all_slow_changed_df[i]['addr'].min()\n",
    "    plot_scatter_map(\"matmul_changed_slow{}.png\".format(i), changed_file_path,\n",
    "                     x_rela_changed, y_rela_changed, x_min_changed, y_min_changed)\n",
    "    print(\"plotted \", i)"
   ]
  },
  {
   "cell_type": "code",
   "execution_count": 7,
   "metadata": {},
   "outputs": [],
   "source": [
    "# plot all\n",
    "x_rela_all = org_df_sorted['timestamp'].max(\n",
    ") - org_df_sorted['timestamp'].min()\n",
    "y_rela_all = (org_df_sorted['addr'].max() -\n",
    "              org_df_sorted['addr'].min()) / (1024 * 1024)\n",
    "x_min_all = org_df_sorted['timestamp'].min()\n",
    "y_min_all = org_df_sorted['addr'].min()\n",
    "plot_scatter_map(\"matmul_all.png\", sorted_file_path,\n",
    "                 x_rela_all, y_rela_all, x_min_all, y_min_all)"
   ]
  },
  {
   "cell_type": "code",
   "execution_count": 8,
   "metadata": {},
   "outputs": [
    {
     "name": "stdout",
     "output_type": "stream",
     "text": [
      "addr min:  140732688186992\n",
      "addr max:  140737349919616\n"
     ]
    }
   ],
   "source": [
    "# plot only changed\n",
    "print(\"addr min: \", org_df_changed['addr'].min())\n",
    "print(\"addr max: \", org_df_changed['addr'].max())\n",
    "x_rela_changed = org_df_changed['timestamp'].max(\n",
    ") - org_df_changed['timestamp'].min()\n",
    "y_rela_changed = (org_df_changed['addr'].max() -\n",
    "                  org_df_changed['addr'].min()) / (1024 * 1024)\n",
    "x_min_changed = org_df_changed['timestamp'].min()\n",
    "y_min_changed = org_df_changed['addr'].min()\n",
    "plot_scatter_map(\"matmul_changed.png\", changed_file_path,\n",
    "                 x_rela_changed, y_rela_changed, x_min_changed, y_min_changed)"
   ]
  },
  {
   "cell_type": "code",
   "execution_count": null,
   "metadata": {},
   "outputs": [],
   "source": [
    "# generate insights of objects hotness distribution\n",
    "summary_whole = org_df_changed.describe()\n",
    "print(summary_whole)\n",
    "# Step 5: Distribution Analysis\n",
    "# General distribution of hotness across all objects\n",
    "# diff2_summary = df['diff2'].describe()"
   ]
  },
  {
   "cell_type": "code",
   "execution_count": null,
   "metadata": {},
   "outputs": [],
   "source": [
    "# separate fast cycels\n",
    "\n",
    "import subprocess\n",
    "grouped_orgdf = org_df.groupby('trace_idx')\n",
    "print(len(grouped_orgdf))\n",
    "for trace_idx, cur_group_df in grouped_orgdf:\n",
    "    print(\"dumping all idx: \", trace_idx)\n",
    "    cur_idx_file = \"matmul_\" + str(trace_idx) + \".csv\"\n",
    "    cur_file_path = os.path.join(org_heats_dir, cur_idx_file)\n",
    "    print(len(cur_group_df))\n",
    "    cur_group_df.to_csv(cur_file_path, sep='\\t', index=False, header=False)\n",
    "\n",
    "    print(\"plotting all idx: \", trace_idx)\n",
    "    cur_idx_file_png = \"matmul_\" + str(trace_idx) + \".png\"\n",
    "    command = \"gnuplot -e \\\"output_file='{}'; input_file='{}'\\\" ./plot.gnuplot \".format(\n",
    "        cur_idx_file_png, cur_idx_file)\n",
    "    completed_process = subprocess.run(\n",
    "        command, shell=True, check=True, stdout=subprocess.PIPE, stderr=subprocess.PIPE, text=True)\n",
    "\n",
    "    print(\"dumping changed idx: \", trace_idx)\n",
    "    cur_group_df_no_zeros = cur_group_df[(cur_group_df[\"diff\"] != 0)]\n",
    "    cur_idx_file = \"matmul_\" + str(trace_idx) + \"_diff.csv\"\n",
    "    cur_file_path = os.path.join(org_heats_dir, cur_idx_file)\n",
    "    print(len(cur_group_df_no_zeros))\n",
    "    cur_group_df_no_zeros.to_csv(\n",
    "        cur_file_path, sep='\\t', index=False, header=False)\n",
    "\n",
    "    print(\"plotting changed idx: \", trace_idx)\n",
    "    cur_idx_file_png = \"matmul_\" + str(trace_idx) + \"_diff.png\"\n",
    "    command = \"gnuplot -e \\\"output_file='{}'; input_file='{}'\\\" ./plot.gnuplot \".format(\n",
    "        cur_idx_file_png, cur_idx_file)\n",
    "    completed_process = subprocess.run(\n",
    "        command, shell=True, check=True, stdout=subprocess.PIPE, stderr=subprocess.PIPE, text=True)"
   ]
  },
  {
   "cell_type": "code",
   "execution_count": 1,
   "metadata": {},
   "outputs": [
    {
     "data": {
      "image/png": "[encoded data removed]",
      "text/plain": [
       "<Figure size 640x480 with 1 Axes>"
      ]
     },
     "metadata": {},
     "output_type": "display_data"
    }
   ],
   "source": [
    "import matplotlib.pyplot as plt\n",
    "colors = ['blue', 'orange', 'green', 'purple']\n",
    "pairs = [\n",
    "    (2921669495104, 2921713036112),\n",
    "    (2921669489152, 2921733699264),\n",
    "    (2921669581184, 2921755127424),\n",
    "    # (2921668345952, 93824996973504),\n",
    "    (2921669463136, 2921669509360)\n",
    "]\n",
    "plt.figure()\n",
    "for i, (start, end) in enumerate(pairs):\n",
    "    label = \"Pair\"\n",
    "    # if i == 0:\n",
    "    #     label = \"complete range\"\n",
    "    if i == 0:\n",
    "        label = \"matrix A\"\n",
    "    elif i == 1:\n",
    "        label = \"matrix B\"\n",
    "    elif i == 2:\n",
    "        label = \"result\"\n",
    "    elif i == 3:\n",
    "        label = \"changed\"\n",
    "    # elif i == 4:\n",
    "    #     label = \"changed\"\n",
    "    plt.plot([i, i], [start, end], marker='o',\n",
    "             label=label, color=colors[i])\n",
    "\n",
    "# plt.tick_params(axis='y', left=False)\n",
    "# y_ticks = [140737318486064]\n",
    "plt.yticks([])\n",
    "plt.xticks(range(len(pairs)), [\"\" for i in range(len(pairs))])\n",
    "plt.ylabel('Address Range')\n",
    "plt.title('Address Range Relative Position View')\n",
    "plt.legend()\n",
    "plt.grid(True)\n",
    "plt.show()"
   ]
  },
  {
   "cell_type": "code",
   "execution_count": null,
   "metadata": {},
   "outputs": [],
   "source": []
  }
 ],
 "metadata": {
  "kernelspec": {
   "display_name": "Python 3 (ipykernel)",
   "language": "python",
   "name": "python3"
  },
  "language_info": {
   "codemirror_mode": {
    "name": "ipython",
    "version": 3
   },
   "file_extension": ".py",
   "mimetype": "text/x-python",
   "name": "python",
   "nbconvert_exporter": "python",
   "pygments_lexer": "ipython3",
   "version": "3.10.12"
  }
 },
 "nbformat": 4,
 "nbformat_minor": 2
}
