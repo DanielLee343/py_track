{
 "cells": [
  {
   "cell_type": "code",
   "execution_count": 14,
   "metadata": {},
   "outputs": [],
   "source": [
    "import pandas as pd\n",
    "\n",
    "file_path = 'obj_dump.txt'\n",
    "columns = [\"time\", \"address\", \"his0\", \"his1\", \"his2\", \"his3\", \"his4\",\n",
    "           \"his5\", \"his6\", \"his7\", \"his8\", \"his9\"]\n",
    "#    \"his10\", \"his11\", \"his12\", \"his13\", \"his14\", \"his15\", \"his16\", \"his17\", \"his18\", \"his19\"]\n",
    "# columns = [\"time\", \"address\"]\n",
    "df = pd.read_csv(file_path, sep=\"\\t\", header=0, names=columns)\n",
    "# duplicated_rows = df.duplicated(subset=['address'], keep=False)\n",
    "# duplicated_df = df[duplicated_rows]\n",
    "# print((duplicated_df))\n",
    "\n",
    "# unique_rows_mask = ~df.duplicated(subset=['address'], keep=False)\n",
    "# unique_rows = df[unique_rows_mask]\n",
    "# print(unique_rows)\n",
    "df['address'] = df['address'].astype(str)\n",
    "df = df[~df['address'].str.startswith('938')]\n",
    "df['address'] = df['address'].astype(int)\n",
    "\n",
    "df = df.sort_values(by=['time', 'address'], ascending=True)"
   ]
  },
  {
   "cell_type": "code",
   "execution_count": 15,
   "metadata": {},
   "outputs": [],
   "source": [
    "# Overwrite the original file with the sorted DataFrame\n",
    "df.to_csv(file_path, sep=\"\\t\", index=False, header=0)"
   ]
  },
  {
   "cell_type": "code",
   "execution_count": 16,
   "metadata": {},
   "outputs": [
    {
     "name": "stdout",
     "output_type": "stream",
     "text": [
      "time       float64\n",
      "address      int64\n",
      "his0         int64\n",
      "his1         int64\n",
      "his2         int64\n",
      "his3         int64\n",
      "his4         int64\n",
      "his5         int64\n",
      "his6         int64\n",
      "his7         int64\n",
      "his8         int64\n",
      "his9         int64\n",
      "dtype: object\n"
     ]
    }
   ],
   "source": [
    "print(df.dtypes)"
   ]
  },
  {
   "cell_type": "code",
   "execution_count": 69,
   "metadata": {},
   "outputs": [
    {
     "name": "stdout",
     "output_type": "stream",
     "text": [
      "[(140737340522928, 140737349942992), (140736945406016, 140737349942992), (140736577962048, 140737349942992), (140736171409472, 140737349942992), (140735727157392, 140737349942992), (140735723995184, 140737349942992), (140735637995584, 140737349942992), (140735623315520, 140737349942992), (140735600246848, 140737349942992), (140735587101616, 140737349942992), (140735586648128, 140737349942992), (140735586648128, 140737349942992), (140735586648128, 140737349942992), (140735586648128, 140737349942992), (140735586648128, 140737349942992), (140735586648128, 140737349942992), (140735586648128, 140737349942992), (140735586648128, 140737349942992)]\n"
     ]
    }
   ],
   "source": [
    "groups = df.groupby('time')\n",
    "\n",
    "# Step 4: Create tuples for each group\n",
    "result_tuples = [(group[1].iloc[0, 1], group[1].iloc[-1, 1])\n",
    "                 for group in groups]\n",
    "\n",
    "# Print the result or perform further operations\n",
    "print(result_tuples)"
   ]
  },
  {
   "cell_type": "code",
   "execution_count": 54,
   "metadata": {},
   "outputs": [
    {
     "data": {
      "image/png": "[encoded data removed]",
      "text/plain": [
       "<Figure size 1000x600 with 1 Axes>"
      ]
     },
     "metadata": {},
     "output_type": "display_data"
    }
   ],
   "source": [
    "import matplotlib.pyplot as plt\n",
    "\n",
    "# Assuming 'result_tuples' contains your generated tuples\n",
    "# And 'group_labels' contains the unique values from the first column that correspond to each tuple\n",
    "group_labels = [group[0] for group in groups]  # Extract timestamps\n",
    "# Extract minimum values from tuples\n",
    "min_values = [tup[0] for tup in result_tuples]\n",
    "# Extract maximum values from tuples\n",
    "max_values = [tup[1] for tup in result_tuples]\n",
    "\n",
    "# Plotting\n",
    "plt.figure(figsize=(10, 6))\n",
    "\n",
    "# Plot each group's min and max values. Adjust the plotting method as needed.\n",
    "for i, (start, end) in enumerate(result_tuples):\n",
    "    plt.plot([i, i], [start, end], marker='o',\n",
    "             linestyle='-', color='b')  # Vertical line from min to max\n",
    "    # plt.text(i, min_values[i], f'{min_values[i]}',\n",
    "    #          ha='center', va='bottom')  # Annotate min value\n",
    "    # plt.text(i, max_values[i], f'{max_values[i]}',\n",
    "    #          ha='center', va='bottom')  # Annotate max value\n",
    "\n",
    "plt.yticks([])\n",
    "plt.xticks(range(len(group_labels)), group_labels,\n",
    "           rotation=45)  # Set x-ticks to group labels\n",
    "plt.xlabel('Time')\n",
    "plt.ylabel('Address Ranges')\n",
    "plt.title('Range of All Live PyObj Address Over Time')\n",
    "# plt.tight_layout()\n",
    "plt.show()"
   ]
  },
  {
   "cell_type": "code",
   "execution_count": 55,
   "metadata": {},
   "outputs": [
    {
     "name": "stdout",
     "output_type": "stream",
     "text": [
      "-----------------\n",
      "-----------------\n",
      "-----------------\n",
      "-----------------\n",
      "-----------------\n",
      "-----------------\n",
      "-----------------\n",
      "-----------------\n",
      "-----------------\n",
      "-----------------\n",
      "-----------------\n",
      "-----------------\n",
      "-----------------\n",
      "-----------------\n",
      "-----------------\n",
      "-----------------\n",
      "-----------------\n",
      "-----------------\n",
      "time\n",
      "1       10832\n",
      "2     1563039\n",
      "3     2750239\n",
      "4     4072401\n",
      "5     5392513\n",
      "6     6487633\n",
      "7     7290602\n",
      "8     7477762\n",
      "9     7794952\n",
      "10      10835\n",
      "11    1585198\n",
      "12    2849403\n",
      "13    4073067\n",
      "14    5463841\n",
      "15    6628359\n",
      "16    7323476\n",
      "17    7477764\n",
      "18    7805877\n",
      "dtype: int64\n"
     ]
    }
   ],
   "source": [
    "# show the number of dp where column 'type' equals to 'str'\n",
    "for idwer, group in groups:\n",
    "    # num_str = (group['type'] == 'str').sum()\n",
    "    # print(num_str)\n",
    "    # type_counts = group['type'].value_counts()\n",
    "    # print(type_counts[:5])\n",
    "    print('-----------------')\n",
    "group_sizes = groups.size()\n",
    "print(group_sizes)\n",
    "# Converting the Series to a dictionary\n",
    "# type_counts_dict = type_counts.to_dict()\n",
    "\n",
    "# # Plotting the distribution\n",
    "# plt.figure(figsize=(8, 6))\n",
    "# plt.bar(type_counts_dict.keys(), type_counts_dict.values(), color='skyblue')\n",
    "# plt.xlabel('Type')\n",
    "# plt.ylabel('Frequency')\n",
    "# plt.title('Distribution of Type Occurrences')\n",
    "# plt.xticks(rotation=45)\n",
    "# plt.show()\n",
    "# break"
   ]
  },
  {
   "cell_type": "code",
   "execution_count": null,
   "metadata": {},
   "outputs": [],
   "source": []
  }
 ],
 "metadata": {
  "kernelspec": {
   "display_name": "Python 3",
   "language": "python",
   "name": "python3"
  },
  "language_info": {
   "codemirror_mode": {
    "name": "ipython",
    "version": 3
   },
   "file_extension": ".py",
   "mimetype": "text/x-python",
   "name": "python",
   "nbconvert_exporter": "python",
   "pygments_lexer": "ipython3",
   "version": "3.10.12"
  }
 },
 "nbformat": 4,
 "nbformat_minor": 2
}
