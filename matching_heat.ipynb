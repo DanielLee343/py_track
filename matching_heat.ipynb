{
 "cells": [
  {
   "cell_type": "code",
   "execution_count": 1,
   "metadata": {},
   "outputs": [],
   "source": [
    "import pandas as pd\n",
    "import numpy as np"
   ]
  },
  {
   "cell_type": "code",
   "execution_count": 2,
   "metadata": {},
   "outputs": [],
   "source": [
    "df1_name = 'obj_dump_interested.txt'\n",
    "df2_name = 'interest_range_damo.txt'"
   ]
  },
  {
   "cell_type": "code",
   "execution_count": 3,
   "metadata": {},
   "outputs": [],
   "source": [
    "columns_1 = [\"timestamp\", \"addr\", \"diff0\", \"diff1\",\n",
    "           \"diff2\", \"diff3\", \"diff4\", \"diff5\", \"diff6\", \"hotness\"]\n",
    "df1 = pd.read_csv(df1_name, sep=\"\\t\", header=None, names=columns_1)\n",
    "\n",
    "columns_2 = [\"timestamp\", \"addr\", \"temperature\"]\n",
    "df2 = pd.read_csv(df2_name, sep=\"\\t\", header=None, names=columns_2)"
   ]
  },
  {
   "cell_type": "code",
   "execution_count": 4,
   "metadata": {},
   "outputs": [],
   "source": [
    "def find_average_temperature(row, row_number, df2):\n",
    "    # Find all rows in df2 where 'addr' is closest to df1 'addr'\n",
    "    # Use the absolute difference to find closest addresses\n",
    "    print(f\"Processing row {row_number + 1} / {len(df1)}\")\n",
    "    diff = np.abs(df2['addr'] - row['addr'])\n",
    "\n",
    "    # Filter to select rows where the difference is minimized (this can return multiple rows)\n",
    "    closest_addrs = df2.loc[diff == diff.min()]\n",
    "\n",
    "    # Return the average temperature of the closest matches\n",
    "    avg_temp = closest_addrs['temperature'].mean()\n",
    "    return avg_temp"
   ]
  },
  {
   "cell_type": "code",
   "execution_count": 5,
   "metadata": {},
   "outputs": [],
   "source": [
    "def find_closest_temperature_v2(row, row_number, df2):\n",
    "    if row_number % (len(df1) // 100) == 0:\n",
    "        print(f\"Processing row {row_number + 1} / {len(df1)}\")\n",
    "    # Find the closest addr in df2 by calculating the absolute difference\n",
    "    closest_row = df2.iloc[(df2['addr'] - row['addr']).abs().argsort()[:1]]\n",
    "\n",
    "    return closest_row['temperature'].mean()"
   ]
  },
  {
   "cell_type": "code",
   "execution_count": null,
   "metadata": {},
   "outputs": [],
   "source": [
    "df1['real_heat'] = df1.apply(\n",
    "    lambda row: find_closest_temperature_v2(row, row.name, df2), axis=1)"
   ]
  },
  {
   "cell_type": "code",
   "execution_count": 8,
   "metadata": {},
   "outputs": [],
   "source": [
    "sorted_file = \"obj_dump_real_heat_all.txt\"\n",
    "df1.to_csv(sorted_file, sep='\\t', index=False, header=False)"
   ]
  }
 ],
 "metadata": {
  "kernelspec": {
   "display_name": "Python 3",
   "language": "python",
   "name": "python3"
  },
  "language_info": {
   "codemirror_mode": {
    "name": "ipython",
    "version": 3
   },
   "file_extension": ".py",
   "mimetype": "text/x-python",
   "name": "python",
   "nbconvert_exporter": "python",
   "pygments_lexer": "ipython3",
   "version": "3.10.12"
  }
 },
 "nbformat": 4,
 "nbformat_minor": 2
}
