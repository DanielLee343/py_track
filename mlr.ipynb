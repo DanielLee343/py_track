{
 "cells": [
  {
   "cell_type": "code",
   "execution_count": 22,
   "metadata": {},
   "outputs": [],
   "source": [
    "import pandas as pd\n",
    "import os\n",
    "import numpy as np"
   ]
  },
  {
   "cell_type": "code",
   "execution_count": 23,
   "metadata": {},
   "outputs": [
    {
     "name": "stdout",
     "output_type": "stream",
     "text": [
      "timestamp       float64\n",
      "addr              int64\n",
      "diff0             int64\n",
      "diff1             int64\n",
      "diff2             int64\n",
      "diff3             int64\n",
      "diff4             int64\n",
      "diff5             int64\n",
      "diff6             int64\n",
      "eye_observed      int64\n",
      "real_temp       float64\n",
      "dtype: object\n"
     ]
    }
   ],
   "source": [
    "org_heats_dir = \"\"\n",
    "interested_file = \"obj_dump_real_heat_all.txt\"\n",
    "org_heats_file = os.path.join(org_heats_dir, interested_file)\n",
    "# columns = [\"timestamp\", \"addr\", \"hotness\"]\n",
    "columns = [\"timestamp\", \"addr\", \"diff0\", \"diff1\",\n",
    "           \"diff2\", \"diff3\", \"diff4\", \"diff5\", \"diff6\", \"eye_observed\", \"real_temp\"]\n",
    "org_df = pd.read_csv(org_heats_file, sep=\"\\t\", header=None, names=columns)\n",
    "print(org_df.dtypes)"
   ]
  },
  {
   "cell_type": "code",
   "execution_count": 24,
   "metadata": {},
   "outputs": [
    {
     "name": "stdout",
     "output_type": "stream",
     "text": [
      "           timestamp             addr  diff0  diff1  diff2  diff3  diff4  \\\n",
      "0           0.000000  140736791527472      0      2      3      3      3   \n",
      "1           0.000000  140736791527504      0      3      3      2      3   \n",
      "2           0.000000  140736791527536      0      3      3      2      3   \n",
      "3           0.000000  140736791527568      0      3      2      3      3   \n",
      "4           0.000000  140736791527600      0      3      2      3      3   \n",
      "...              ...              ...    ...    ...    ...    ...    ...   \n",
      "26289755  129.677944  140736835352848      0      0      0      0    127   \n",
      "26289756  129.677944  140736835354000      0      0      0      0      0   \n",
      "26289757  129.677944  140736835741520      3      3      3      2      3   \n",
      "26289758  129.677944  140736838571008    127    127    127    127    127   \n",
      "26289759  129.677944  140736838574592    127    127    127    127    127   \n",
      "\n",
      "          diff5  diff6  eye_observed  real_temp     average    std_dev  \\\n",
      "0             2      3            12   9.356531    2.285714   1.112697   \n",
      "1             3      2            12   9.356531    2.285714   1.112697   \n",
      "2             3      2            12   9.356531    2.285714   1.112697   \n",
      "3             3      2            12   9.356531    2.285714   1.112697   \n",
      "4             2      3            12   9.356531    2.285714   1.112697   \n",
      "...         ...    ...           ...        ...         ...        ...   \n",
      "26289755      0      0             1   0.000000   18.142857  48.001488   \n",
      "26289756    127    127             2   0.000000   36.285714  61.969655   \n",
      "26289757      3      3            14   0.000000    2.857143   0.377964   \n",
      "26289758    127    127             7   0.000000  127.000000   0.000000   \n",
      "26289759    127    127             7   0.000000  127.000000   0.000000   \n",
      "\n",
      "          non_zeros  small_change_num  \n",
      "0                 6                 7  \n",
      "1                 6                 7  \n",
      "2                 6                 7  \n",
      "3                 6                 7  \n",
      "4                 6                 7  \n",
      "...             ...               ...  \n",
      "26289755          1                 6  \n",
      "26289756          2                 5  \n",
      "26289757          7                 7  \n",
      "26289758          7                 0  \n",
      "26289759          7                 0  \n",
      "\n",
      "[26289760 rows x 15 columns]\n"
     ]
    }
   ],
   "source": [
    "diff_columns = ['diff0', 'diff1', 'diff2', 'diff3', 'diff4', 'diff5', 'diff6']\n",
    "org_df['average'] = org_df[diff_columns].mean(axis=1)\n",
    "org_df['std_dev'] = org_df[diff_columns].std(axis=1)\n",
    "org_df['non_zeros'] = (org_df[diff_columns] != 0).sum(axis=1)\n",
    "org_df['small_change_num'] = (org_df[diff_columns] < 127).sum(axis=1)\n",
    "print(org_df)"
   ]
  },
  {
   "cell_type": "code",
   "execution_count": 25,
   "metadata": {},
   "outputs": [],
   "source": [
    "import matplotlib.pyplot as plt\n",
    "from sklearn.linear_model import LinearRegression\n",
    "from sklearn.preprocessing import PolynomialFeatures\n",
    "from sklearn.model_selection import train_test_split\n",
    "from sklearn.metrics import mean_squared_error, r2_score\n",
    "\n",
    "X = org_df[['average', 'std_dev', 'non_zeros', 'small_change_num']]\n",
    "y = org_df['real_temp']\n",
    "X_train, X_test, y_train, y_test = train_test_split(\n",
    "    X, y, test_size=0.2, random_state=42)"
   ]
  },
  {
   "cell_type": "code",
   "execution_count": 26,
   "metadata": {},
   "outputs": [
    {
     "name": "stdout",
     "output_type": "stream",
     "text": [
      "Coefficients: [-0.09869469 -0.05838557  0.78084795 -0.68946689]\n",
      "Intercept: 9.281685168308186\n",
      "Training Mean Squared Error (MSE): 0.6722130345712521\n",
      "Training R-squared (R²): 0.7329454954677155\n",
      "Testing Mean Squared Error (MSE): 0.6726924819182796\n",
      "Testing R-squared (R²): 0.7332766633774855\n"
     ]
    }
   ],
   "source": [
    "from sklearn.metrics import mean_squared_error, r2_score\n",
    "from sklearn.linear_model import LinearRegression\n",
    "from scipy.stats import pearsonr\n",
    "# Assuming X_train, X_test, y_train, y_test have already been defined\n",
    "# linear regression\n",
    "model = LinearRegression()\n",
    "model.fit(X_train, y_train)\n",
    "\n",
    "# Predictions for both training and testing sets\n",
    "y_train_pred = model.predict(X_train)\n",
    "y_test_pred = model.predict(X_test)\n",
    "\n",
    "# Calculate MSE and R² for training set\n",
    "train_mse = mean_squared_error(y_train, y_train_pred)\n",
    "train_r2 = r2_score(y_train, y_train_pred)\n",
    "\n",
    "# Calculate MSE and R² for testing set\n",
    "test_mse = mean_squared_error(y_test, y_test_pred)\n",
    "test_r2 = r2_score(y_test, y_test_pred)\n",
    "\n",
    "# Output results for both training and testing sets\n",
    "print(f\"Coefficients: {model.coef_}\")\n",
    "print(f\"Intercept: {model.intercept_}\")\n",
    "print(f\"Training Mean Squared Error (MSE): {train_mse}\")\n",
    "print(f\"Training R-squared (R²): {train_r2}\")\n",
    "print(f\"Testing Mean Squared Error (MSE): {test_mse}\")\n",
    "print(f\"Testing R-squared (R²): {test_r2}\")\n",
    "\n",
    "pearson_corr, _ = pearsonr(y_test, y_test_pred)\n",
    "print(f\"Pearson correlation coefficient: {pearson_corr:.3f}\")"
   ]
  },
  {
   "cell_type": "code",
   "execution_count": 37,
   "metadata": {},
   "outputs": [
    {
     "name": "stdout",
     "output_type": "stream",
     "text": [
      "           timestamp             addr  diff0  diff1  diff2  diff3  diff4  \\\n",
      "0           0.000000  140736791527472      0      2      3      3      3   \n",
      "1           0.000000  140736791527504      0      3      3      2      3   \n",
      "2           0.000000  140736791527536      0      3      3      2      3   \n",
      "3           0.000000  140736791527568      0      3      2      3      3   \n",
      "4           0.000000  140736791527600      0      3      2      3      3   \n",
      "...              ...              ...    ...    ...    ...    ...    ...   \n",
      "26289755  129.677944  140736835352848      0      0      0      0    127   \n",
      "26289756  129.677944  140736835354000      0      0      0      0      0   \n",
      "26289757  129.677944  140736835741520      3      3      3      2      3   \n",
      "26289758  129.677944  140736838571008    127    127    127    127    127   \n",
      "26289759  129.677944  140736838574592    127    127    127    127    127   \n",
      "\n",
      "          diff5  diff6  eye_observed  real_temp     average    std_dev  \\\n",
      "0             2      3            12   9.356531    2.285714   1.112697   \n",
      "1             3      2            12   9.356531    2.285714   1.112697   \n",
      "2             3      2            12   9.356531    2.285714   1.112697   \n",
      "3             3      2            12   9.356531    2.285714   1.112697   \n",
      "4             2      3            12   9.356531    2.285714   1.112697   \n",
      "...         ...    ...           ...        ...         ...        ...   \n",
      "26289755      0      0             1   0.000000   18.142857  48.001488   \n",
      "26289756    127    127             2   0.000000   36.285714  61.969655   \n",
      "26289757      3      3            14   0.000000    2.857143   0.377964   \n",
      "26289758    127    127             7   0.000000  127.000000   0.000000   \n",
      "26289759    127    127             7   0.000000  127.000000   0.000000   \n",
      "\n",
      "          non_zeros  small_change_num  inferred  \n",
      "0                 6                 7  9.591560  \n",
      "1                 6                 7  9.624978  \n",
      "2                 6                 7  9.591560  \n",
      "3                 6                 7  9.624978  \n",
      "4                 6                 7  9.624978  \n",
      "...             ...               ...       ...  \n",
      "26289755          1                 6  1.332534  \n",
      "26289756          2                 5  9.624978  \n",
      "26289757          7                 7  9.617300  \n",
      "26289758          7                 0  8.849951  \n",
      "26289759          7                 0  9.624978  \n",
      "\n",
      "[26289760 rows x 16 columns]\n"
     ]
    }
   ],
   "source": [
    "combined_predictions = np.concatenate([y_train_pred, y_test_pred])\n",
    "# df_combined = pd.concat([X_train, X_test], ignore_index=True)  # Combine X_train and X_test\n",
    "org_df['inferred'] = combined_predictions\n",
    "print(org_df)"
   ]
  },
  {
   "cell_type": "code",
   "execution_count": 39,
   "metadata": {},
   "outputs": [],
   "source": [
    "inferred_file = \"obj_dump_real_heat_all_inferred.txt\"\n",
    "org_df[['real_temp', 'inferred']].to_csv(\n",
    "    inferred_file, sep='\\t', index=False, header=False)"
   ]
  },
  {
   "cell_type": "code",
   "execution_count": 32,
   "metadata": {},
   "outputs": [
    {
     "name": "stdout",
     "output_type": "stream",
     "text": [
      "List1 (first 10 elements): [2, 3, 10, 5, 19, 19, 17, 0, 4, 13]\n",
      "List2 (first 10 elements): [2, 3, 12, 5, 19, 24, 18, 0, 5, 13]\n"
     ]
    }
   ],
   "source": [
    "import random\n",
    "\n",
    "# Generate the first list with 10,000 elements, each ranging from 0 to 20\n",
    "list1 = [random.randint(0, 20) for _ in range(10000)]\n",
    "\n",
    "# Generate the second list with each element varying within a 20% range of the corresponding element in list1\n",
    "list2 = []\n",
    "for value in list1:\n",
    "    # Calculate the 20% range\n",
    "    lower_bound = int(value * 0.75)  # 80% of the original value\n",
    "    upper_bound = int(value * 1.3)  # 120% of the original value\n",
    "    # lower_bound = int(value - 5)\n",
    "    # upper_bound = int(value + 5)\n",
    "    # Ensure the upper bound doesn't exceed 20 (since list1's elements are between 0 and 20)\n",
    "    # upper_bound = min(upper_bound, 20)\n",
    "    # Ensure the lower bound is not below 0\n",
    "    lower_bound = max(lower_bound, 0)\n",
    "    # Randomly choose a value within the range\n",
    "    new_value = random.randint(lower_bound, upper_bound)\n",
    "    list2.append(new_value)\n",
    "\n",
    "# list1 = list1[:100]\n",
    "# list2 = list2[:100]\n",
    "# Print first 10 elements of both lists for comparison\n",
    "print(\"List1 (first 10 elements):\", list1[:10])\n",
    "print(\"List2 (first 10 elements):\", list2[:10])"
   ]
  },
  {
   "cell_type": "code",
   "execution_count": 34,
   "metadata": {},
   "outputs": [
    {
     "name": "stderr",
     "output_type": "stream",
     "text": [
      "No artists with labels found to put in legend.  Note that artists whose label start with an underscore are ignored when legend() is called with no argument.\n"
     ]
    },
    {
     "data": {
      "image/png": "[encoded data removed]",
      "text/plain": [
       "<Figure size 800x600 with 1 Axes>"
      ]
     },
     "metadata": {},
     "output_type": "display_data"
    },
    {
     "name": "stdout",
     "output_type": "stream",
     "text": [
      "Pearson correlation coefficient: 0.86\n"
     ]
    }
   ],
   "source": [
    "# generate a scatter plot comparing ground truth real_temp and the predicted ones\n",
    "import matplotlib.pyplot as plt\n",
    "\n",
    "# Calculate Pearson correlation coefficient\n",
    "# pearson_corr, _ = pearsonr(list1, list2)\n",
    "# pearson_corr, _ = pearsonr(y_train, y_train_pred)\n",
    "pearson_corr, _ = pearsonr(y_test, y_test_pred)\n",
    "print(f\"Pearson correlation coefficient: {pearson_corr:.3f}\")\n",
    "# Generate scatter plot of ground truth vs. predicted\n",
    "plt.figure(figsize=(8, 6))\n",
    "plt.scatter(y_test, y_test_pred, alpha=0.7, color='b')\n",
    "\n",
    "\n",
    "plt.title(\n",
    "    f'Real Temperature vs Prediction by Refcnt Changes')\n",
    "plt.xlabel('Real Temperature')\n",
    "plt.ylabel('Prediction by Refcnt Changes')\n",
    "plt.grid(True)\n",
    "# plt.legend(loc='best')\n",
    "plt.show()\n",
    "\n",
    "# Output Pearson correlation coefficient\n"
   ]
  },
  {
   "cell_type": "code",
   "execution_count": 40,
   "metadata": {},
   "outputs": [
    {
     "name": "stdout",
     "output_type": "stream",
     "text": [
      "Selected Features: [ True False  True  True]\n",
      "Feature Ranking: [1 2 1 1]\n",
      "Training MSE: 0.6850449197520635\n",
      "Training R-squared (R²): 0.7278476878339162\n",
      "Test MSE: 0.6854715086351425\n",
      "Test R-squared (R²): 0.7282097647033838\n",
      "Pearson correlation coefficient: 0.853\n"
     ]
    }
   ],
   "source": [
    "# use RFE to select a subset of features\n",
    "from sklearn.feature_selection import RFE\n",
    "model = LinearRegression()\n",
    "rfe = RFE(model, n_features_to_select=3)\n",
    "rfe = rfe.fit(X_train, y_train)\n",
    "\n",
    "print(f\"Selected Features: {rfe.support_}\")\n",
    "print(f\"Feature Ranking: {rfe.ranking_}\")\n",
    "\n",
    "X_train_rfe = rfe.transform(X_train)  # Transform the training data\n",
    "X_test_rfe = rfe.transform(X_test)    # Transform the testing data\n",
    "\n",
    "model.fit(X_train_rfe, y_train)  # Train the model on selected features\n",
    "y_pred_train = model.predict(X_train_rfe)  # Predictions on training data\n",
    "y_pred_test = model.predict(X_test_rfe)    # Predictions on test data\n",
    "\n",
    "train_mse = mean_squared_error(y_train, y_pred_train)\n",
    "test_mse = mean_squared_error(y_test, y_pred_test)\n",
    "train_r2 = r2_score(y_train, y_pred_train)\n",
    "test_r2 = r2_score(y_test, y_pred_test)\n",
    "\n",
    "# Output results\n",
    "print(f\"Training MSE: {train_mse}\")\n",
    "print(f\"Training R-squared (R²): {train_r2}\")\n",
    "print(f\"Test MSE: {test_mse}\")\n",
    "print(f\"Test R-squared (R²): {test_r2}\")\n",
    "\n",
    "pearson_corr, _ = pearsonr(y_test, y_pred_test)\n",
    "print(f\"Pearson correlation coefficient: {pearson_corr:.3f}\")"
   ]
  },
  {
   "cell_type": "code",
   "execution_count": 41,
   "metadata": {},
   "outputs": [
    {
     "name": "stdout",
     "output_type": "stream",
     "text": [
      "Coefficients: [ 0.00000000e+00  3.26168438e+01 -3.10154177e-01 -2.95795944e+01\n",
      "  5.97789448e+02 -1.13050882e-01  3.91056748e-03  1.49856870e-01\n",
      " -4.71804167e+00  1.45689520e-02 -1.88128724e-02  6.18491075e-02\n",
      " -3.26565913e-01  4.78340317e+00 -3.99974609e+01]\n",
      "Intercept: -2227.2824784976006\n",
      "Training MSE: 0.6484848880583071\n",
      "Training R-squared (R²): 0.7423721326862658\n",
      "Test MSE: 0.6490478612201122\n",
      "Test R-squared (R²): 0.7426517824628139\n",
      "Pearson correlation coefficient: 0.862\n"
     ]
    }
   ],
   "source": [
    "# polynomial regression\n",
    "degree = 2\n",
    "poly = PolynomialFeatures(degree=degree)\n",
    "X_train_poly = poly.fit_transform(X_train)\n",
    "X_test_poly = poly.transform(X_test)\n",
    "\n",
    "model = LinearRegression()\n",
    "model.fit(X_train_poly, y_train)\n",
    "\n",
    "# Step 5: Make predictions\n",
    "y_pred_train = model.predict(X_train_poly)\n",
    "y_pred_test = model.predict(X_test_poly)\n",
    "\n",
    "# Step 6: Evaluate the model\n",
    "train_mse = mean_squared_error(y_train, y_pred_train)\n",
    "test_mse = mean_squared_error(y_test, y_pred_test)\n",
    "train_r2 = r2_score(y_train, y_pred_train)\n",
    "test_r2 = r2_score(y_test, y_pred_test)\n",
    "\n",
    "print(f\"Coefficients: {model.coef_}\")\n",
    "print(f\"Intercept: {model.intercept_}\")\n",
    "\n",
    "print(f\"Training MSE: {train_mse}\")\n",
    "print(f\"Training R-squared (R²): {train_r2}\")\n",
    "print(f\"Test MSE: {test_mse}\")\n",
    "print(f\"Test R-squared (R²): {test_r2}\")\n",
    "\n",
    "pearson_corr, _ = pearsonr(y_test, y_pred_test)\n",
    "print(f\"Pearson correlation coefficient: {pearson_corr:.3f}\")\n",
    "\n",
    "# plt.scatter(X['average'], y, color='blue', label='Data points')\n",
    "# plt.scatter(X_train['average'], y_pred_train, color='red',\n",
    "#             label='Polynomial Regression (Train)')\n",
    "# plt.scatter(X_test['average'], y_pred_test, color='green',\n",
    "#             label='Polynomial Regression (Test)')\n",
    "# plt.title(f\"Polynomial Regression (Degree {degree})\")\n",
    "# plt.xlabel('average of refcnt changes')\n",
    "# plt.ylabel('Real Heat')\n",
    "# plt.legend()\n",
    "# plt.show()"
   ]
  },
  {
   "cell_type": "code",
   "execution_count": 42,
   "metadata": {},
   "outputs": [
    {
     "name": "stdout",
     "output_type": "stream",
     "text": [
      "Training MSE: 0.6484812503861127\n",
      "Test MSE: 0.6490494371609129\n",
      "Training R-squared (R²): 0.7423735778482836\n",
      "Test R-squared (R²): 0.7426511576004883\n",
      "Pearson correlation coefficient: 0.862\n"
     ]
    }
   ],
   "source": [
    "# random forest\n",
    "from sklearn.ensemble import RandomForestRegressor\n",
    "rf_model = RandomForestRegressor(\n",
    "    n_estimators=100, random_state=42)  # 100 trees in the forest\n",
    "rf_model.fit(X_train, y_train)\n",
    "\n",
    "# Step 5: Make predictions on the test set\n",
    "y_pred_train = rf_model.predict(X_train)\n",
    "y_pred_test = rf_model.predict(X_test)\n",
    "\n",
    "# Step 6: Evaluate the model\n",
    "train_mse = mean_squared_error(y_train, y_pred_train)\n",
    "test_mse = mean_squared_error(y_test, y_pred_test)\n",
    "train_r2 = r2_score(y_train, y_pred_train)\n",
    "test_r2 = r2_score(y_test, y_pred_test)\n",
    "\n",
    "# Output results\n",
    "print(f\"Training MSE: {train_mse}\")\n",
    "print(f\"Test MSE: {test_mse}\")\n",
    "print(f\"Training R-squared (R²): {train_r2}\")\n",
    "print(f\"Test R-squared (R²): {test_r2}\")\n",
    "pearson_corr, _ = pearsonr(y_test, y_pred_test)\n",
    "print(f\"Pearson correlation coefficient: {pearson_corr:.3f}\")"
   ]
  },
  {
   "cell_type": "code",
   "execution_count": null,
   "metadata": {},
   "outputs": [],
   "source": []
  }
 ],
 "metadata": {
  "kernelspec": {
   "display_name": "Python 3",
   "language": "python",
   "name": "python3"
  },
  "language_info": {
   "codemirror_mode": {
    "name": "ipython",
    "version": 3
   },
   "file_extension": ".py",
   "mimetype": "text/x-python",
   "name": "python",
   "nbconvert_exporter": "python",
   "pygments_lexer": "ipython3",
   "version": "3.10.12"
  }
 },
 "nbformat": 4,
 "nbformat_minor": 2
}
