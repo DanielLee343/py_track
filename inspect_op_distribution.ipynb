{
 "cells": [
  {
   "cell_type": "code",
   "execution_count": null,
   "metadata": {},
   "outputs": [
    {
     "ename": "",
     "evalue": "",
     "output_type": "error",
     "traceback": [
      "\u001b[1;31mFailed to start the Kernel 'Python 3.10.12'. \n",
      "\u001b[1;31mView Jupyter <a href='command:jupyter.viewOutput'>log</a> for further details. Cannot find module '@jupyterlab/services'\n",
      "\u001b[1;31mRequire stack:\n",
      "\u001b[1;31m- /home/lyuze/.vscode-server/extensions/ms-toolsai.jupyter-2024.2.0-linux-x64/dist/extension.node.js\n",
      "\u001b[1;31m- /home/lyuze/.vscode-server/extensions/ms-toolsai.jupyter-2024.2.0-linux-x64/dist/extension.node.proxy.js\n",
      "\u001b[1;31m- /home/lyuze/.vscode-server/bin/5c3e652f63e798a5ac2f31ffd0d863669328dc4c/out/vs/loader.js\n",
      "\u001b[1;31m- /home/lyuze/.vscode-server/bin/5c3e652f63e798a5ac2f31ffd0d863669328dc4c/out/bootstrap-amd.js\n",
      "\u001b[1;31m- /home/lyuze/.vscode-server/bin/5c3e652f63e798a5ac2f31ffd0d863669328dc4c/out/bootstrap-fork.js"
     ]
    }
   ],
   "source": [
    "import pandas as pd\n",
    "import os\n",
    "import matplotlib.pyplot as plt\n",
    "\n",
    "org_heats_dir = \"/home/lyuze/workspace/py_track\"\n",
    "interested_file = \"obj_dump.txt\"\n",
    "org_heats_file = os.path.join(org_heats_dir, interested_file)"
   ]
  },
  {
   "cell_type": "code",
   "execution_count": null,
   "metadata": {},
   "outputs": [
    {
     "ename": "",
     "evalue": "",
     "output_type": "error",
     "traceback": [
      "\u001b[1;31mFailed to start the Kernel 'Python 3.10.12'. \n",
      "\u001b[1;31mView Jupyter <a href='command:jupyter.viewOutput'>log</a> for further details. Cannot find module '@jupyterlab/services'\n",
      "\u001b[1;31mRequire stack:\n",
      "\u001b[1;31m- /home/lyuze/.vscode-server/extensions/ms-toolsai.jupyter-2024.2.0-linux-x64/dist/extension.node.js\n",
      "\u001b[1;31m- /home/lyuze/.vscode-server/extensions/ms-toolsai.jupyter-2024.2.0-linux-x64/dist/extension.node.proxy.js\n",
      "\u001b[1;31m- /home/lyuze/.vscode-server/bin/5c3e652f63e798a5ac2f31ffd0d863669328dc4c/out/vs/loader.js\n",
      "\u001b[1;31m- /home/lyuze/.vscode-server/bin/5c3e652f63e798a5ac2f31ffd0d863669328dc4c/out/bootstrap-amd.js\n",
      "\u001b[1;31m- /home/lyuze/.vscode-server/bin/5c3e652f63e798a5ac2f31ffd0d863669328dc4c/out/bootstrap-fork.js"
     ]
    }
   ],
   "source": [
    "# columns = [\"timestamp\", \"addr\"]\n",
    "# adjst header as needed\n",
    "columns = [\"timestamp\", \"addr\", \"his0\", \"his1\", \"his2\", \"his3\", \"his4\",\n",
    "           \"his5\", \"his6\", \"his7\", \"his8\", \"his9\"]\n",
    "org_df = pd.read_csv(org_heats_file, sep=\"\\t\", header=None, names=columns)\n",
    "print(org_df.dtypes)"
   ]
  },
  {
   "cell_type": "code",
   "execution_count": null,
   "metadata": {},
   "outputs": [
    {
     "ename": "",
     "evalue": "",
     "output_type": "error",
     "traceback": [
      "\u001b[1;31mFailed to start the Kernel 'Python 3.10.12'. \n",
      "\u001b[1;31mView Jupyter <a href='command:jupyter.viewOutput'>log</a> for further details. Cannot find module '@jupyterlab/services'\n",
      "\u001b[1;31mRequire stack:\n",
      "\u001b[1;31m- /home/lyuze/.vscode-server/extensions/ms-toolsai.jupyter-2024.2.0-linux-x64/dist/extension.node.js\n",
      "\u001b[1;31m- /home/lyuze/.vscode-server/extensions/ms-toolsai.jupyter-2024.2.0-linux-x64/dist/extension.node.proxy.js\n",
      "\u001b[1;31m- /home/lyuze/.vscode-server/bin/5c3e652f63e798a5ac2f31ffd0d863669328dc4c/out/vs/loader.js\n",
      "\u001b[1;31m- /home/lyuze/.vscode-server/bin/5c3e652f63e798a5ac2f31ffd0d863669328dc4c/out/bootstrap-amd.js\n",
      "\u001b[1;31m- /home/lyuze/.vscode-server/bin/5c3e652f63e798a5ac2f31ffd0d863669328dc4c/out/bootstrap-fork.js"
     ]
    }
   ],
   "source": [
    "condition_no93 = org_df['addr'].astype(str).str.startswith('9')\n",
    "with_93 = org_df[condition_no93]\n",
    "org_df = org_df[~condition_no93]"
   ]
  },
  {
   "cell_type": "code",
   "execution_count": null,
   "metadata": {},
   "outputs": [
    {
     "ename": "",
     "evalue": "",
     "output_type": "error",
     "traceback": [
      "\u001b[1;31mFailed to start the Kernel 'Python 3.10.12'. \n",
      "\u001b[1;31mView Jupyter <a href='command:jupyter.viewOutput'>log</a> for further details. Cannot find module '@jupyterlab/services'\n",
      "\u001b[1;31mRequire stack:\n",
      "\u001b[1;31m- /home/lyuze/.vscode-server/extensions/ms-toolsai.jupyter-2024.2.0-linux-x64/dist/extension.node.js\n",
      "\u001b[1;31m- /home/lyuze/.vscode-server/extensions/ms-toolsai.jupyter-2024.2.0-linux-x64/dist/extension.node.proxy.js\n",
      "\u001b[1;31m- /home/lyuze/.vscode-server/bin/5c3e652f63e798a5ac2f31ffd0d863669328dc4c/out/vs/loader.js\n",
      "\u001b[1;31m- /home/lyuze/.vscode-server/bin/5c3e652f63e798a5ac2f31ffd0d863669328dc4c/out/bootstrap-amd.js\n",
      "\u001b[1;31m- /home/lyuze/.vscode-server/bin/5c3e652f63e798a5ac2f31ffd0d863669328dc4c/out/bootstrap-fork.js"
     ]
    }
   ],
   "source": [
    "# sort by time and addr and dump to file, probably no need at this time\n",
    "org_df_sorted = org_df.sort_values(by=['timestamp', 'addr'])\n",
    "sorted_file = \"obj_dump_sorted.txt\"\n",
    "sorted_file_path = os.path.join(org_heats_dir, sorted_file)\n",
    "org_df_sorted.to_csv(sorted_file_path, sep='\\t', index=False, header=False)\n",
    "\n",
    "org_df = org_df_sorted"
   ]
  },
  {
   "cell_type": "code",
   "execution_count": null,
   "metadata": {},
   "outputs": [
    {
     "ename": "",
     "evalue": "",
     "output_type": "error",
     "traceback": [
      "\u001b[1;31mFailed to start the Kernel 'Python 3.10.12'. \n",
      "\u001b[1;31mView Jupyter <a href='command:jupyter.viewOutput'>log</a> for further details. Cannot find module '@jupyterlab/services'\n",
      "\u001b[1;31mRequire stack:\n",
      "\u001b[1;31m- /home/lyuze/.vscode-server/extensions/ms-toolsai.jupyter-2024.2.0-linux-x64/dist/extension.node.js\n",
      "\u001b[1;31m- /home/lyuze/.vscode-server/extensions/ms-toolsai.jupyter-2024.2.0-linux-x64/dist/extension.node.proxy.js\n",
      "\u001b[1;31m- /home/lyuze/.vscode-server/bin/5c3e652f63e798a5ac2f31ffd0d863669328dc4c/out/vs/loader.js\n",
      "\u001b[1;31m- /home/lyuze/.vscode-server/bin/5c3e652f63e798a5ac2f31ffd0d863669328dc4c/out/bootstrap-amd.js\n",
      "\u001b[1;31m- /home/lyuze/.vscode-server/bin/5c3e652f63e798a5ac2f31ffd0d863669328dc4c/out/bootstrap-fork.js"
     ]
    }
   ],
   "source": [
    "import subprocess\n",
    "\n",
    "\n",
    "def plot_scatter_map(output_file, data_file, x_relative, y_relative, x_min, y_min):\n",
    "    x_range = [0, x_relative]\n",
    "    y_range = [0, y_relative]\n",
    "    gnuplot_cmd = \"\"\"\n",
    "        set terminal pngcairo;\n",
    "        set output '%s';\n",
    "        set key off;\n",
    "        set xlabel 'Time (s)';\n",
    "        set ylabel 'Address (mb)';\n",
    "        plot '%s' using ($1 - %f):(($2 - %d)/ (1024 * 1024)) with points pointtype 1 pointsize 0.8\"\"\" % (output_file,\n",
    "                                                                                                         data_file, x_min, y_min)\n",
    "    subprocess.call(['gnuplot', '-e', gnuplot_cmd])"
   ]
  },
  {
   "cell_type": "code",
   "execution_count": null,
   "metadata": {},
   "outputs": [
    {
     "ename": "",
     "evalue": "",
     "output_type": "error",
     "traceback": [
      "\u001b[1;31mFailed to start the Kernel 'Python 3.10.12'. \n",
      "\u001b[1;31mView Jupyter <a href='command:jupyter.viewOutput'>log</a> for further details. Cannot find module '@jupyterlab/services'\n",
      "\u001b[1;31mRequire stack:\n",
      "\u001b[1;31m- /home/lyuze/.vscode-server/extensions/ms-toolsai.jupyter-2024.2.0-linux-x64/dist/extension.node.js\n",
      "\u001b[1;31m- /home/lyuze/.vscode-server/extensions/ms-toolsai.jupyter-2024.2.0-linux-x64/dist/extension.node.proxy.js\n",
      "\u001b[1;31m- /home/lyuze/.vscode-server/bin/5c3e652f63e798a5ac2f31ffd0d863669328dc4c/out/vs/loader.js\n",
      "\u001b[1;31m- /home/lyuze/.vscode-server/bin/5c3e652f63e798a5ac2f31ffd0d863669328dc4c/out/bootstrap-amd.js\n",
      "\u001b[1;31m- /home/lyuze/.vscode-server/bin/5c3e652f63e798a5ac2f31ffd0d863669328dc4c/out/bootstrap-fork.js"
     ]
    }
   ],
   "source": [
    "# plot all\n",
    "x_rela_all = org_df_sorted['timestamp'].max(\n",
    ") - org_df_sorted['timestamp'].min()\n",
    "y_rela_all = (org_df_sorted['addr'].max() -\n",
    "              org_df_sorted['addr'].min()) / (1024 * 1024)\n",
    "x_min_all = org_df_sorted['timestamp'].min()\n",
    "y_min_all = org_df_sorted['addr'].min()\n",
    "plot_scatter_map(\"bm_tornado_http.png\", sorted_file_path,\n",
    "                 x_rela_all, y_rela_all, x_min_all, y_min_all)"
   ]
  },
  {
   "cell_type": "code",
   "execution_count": null,
   "metadata": {},
   "outputs": [
    {
     "ename": "",
     "evalue": "",
     "output_type": "error",
     "traceback": [
      "\u001b[1;31mFailed to start the Kernel 'Python 3.10.12'. \n",
      "\u001b[1;31mView Jupyter <a href='command:jupyter.viewOutput'>log</a> for further details. Cannot find module '@jupyterlab/services'\n",
      "\u001b[1;31mRequire stack:\n",
      "\u001b[1;31m- /home/lyuze/.vscode-server/extensions/ms-toolsai.jupyter-2024.2.0-linux-x64/dist/extension.node.js\n",
      "\u001b[1;31m- /home/lyuze/.vscode-server/extensions/ms-toolsai.jupyter-2024.2.0-linux-x64/dist/extension.node.proxy.js\n",
      "\u001b[1;31m- /home/lyuze/.vscode-server/bin/5c3e652f63e798a5ac2f31ffd0d863669328dc4c/out/vs/loader.js\n",
      "\u001b[1;31m- /home/lyuze/.vscode-server/bin/5c3e652f63e798a5ac2f31ffd0d863669328dc4c/out/bootstrap-amd.js\n",
      "\u001b[1;31m- /home/lyuze/.vscode-server/bin/5c3e652f63e798a5ac2f31ffd0d863669328dc4c/out/bootstrap-fork.js"
     ]
    }
   ],
   "source": []
  }
 ],
 "metadata": {
  "kernelspec": {
   "display_name": "Python 3",
   "language": "python",
   "name": "python3"
  },
  "language_info": {
   "codemirror_mode": {
    "name": "ipython",
    "version": 3
   },
   "file_extension": ".py",
   "mimetype": "text/x-python",
   "name": "python",
   "nbconvert_exporter": "python",
   "pygments_lexer": "ipython3",
   "version": "3.10.12"
  }
 },
 "nbformat": 4,
 "nbformat_minor": 2
}
