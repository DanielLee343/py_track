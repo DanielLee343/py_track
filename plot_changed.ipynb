{
 "cells": [
  {
   "cell_type": "code",
   "execution_count": 1,
   "metadata": {},
   "outputs": [],
   "source": [
    "import pandas as pd\n",
    "import os\n",
    "import subprocess\n",
    "changed_file_path = \"matmul_diff.csv\"\n",
    "columns = [\"timestamp\", \"addr\",\n",
    "           \"diff1\", \"diff2\", \"diff3\", \"diff4\", \"diff5\",\n",
    "           \"diff6\", \"diff7\", \"diff8\", \"diff9\", \"diff10\",\n",
    "           \"diff11\", \"diff12\", \"diff13\", \"diff14\", \"diff15\",\n",
    "           \"diff16\", \"diff17\", \"diff18\", \"diff19\", \"diff20\",\n",
    "           \"slow_idx\"\n",
    "           ]\n",
    "org_df_changed = pd.read_csv(\n",
    "    changed_file_path, sep=\"\\t\", header=None, names=columns)"
   ]
  },
  {
   "cell_type": "code",
   "execution_count": 2,
   "metadata": {},
   "outputs": [],
   "source": [
    "def plot_scatter_map(output_file, data_file, x_relative, y_relative, x_min, y_min):\n",
    "    x_range = [0, x_relative]\n",
    "    y_range = [0, y_relative]\n",
    "    gnuplot_cmd = \"\"\"\n",
    "        set terminal pngcairo;\n",
    "        set output '%s';\n",
    "        set key off;\n",
    "        set xlabel 'Time (s)';\n",
    "        set ylabel 'Address (mb)';\n",
    "        plot '%s' using ($1 - %f):(($2 - %d)/ (1024 * 1024)) with points pointtype 1 pointsize 0.8\"\"\" % (output_file,\n",
    "                                                                                                         data_file, x_min, y_min)\n",
    "    subprocess.call(['gnuplot', '-e', gnuplot_cmd])"
   ]
  },
  {
   "cell_type": "code",
   "execution_count": 3,
   "metadata": {},
   "outputs": [
    {
     "name": "stdout",
     "output_type": "stream",
     "text": [
      "addr min:  140737300889696\n",
      "addr max:  140737349893936\n"
     ]
    }
   ],
   "source": [
    "# plot only changed\n",
    "print(\"addr min: \", org_df_changed['addr'].min())\n",
    "print(\"addr max: \", org_df_changed['addr'].max())\n",
    "x_rela_changed = org_df_changed['timestamp'].max(\n",
    ") - org_df_changed['timestamp'].min()\n",
    "y_rela_changed = (org_df_changed['addr'].max() -\n",
    "                  org_df_changed['addr'].min()) / (1024 * 1024)\n",
    "x_min_changed = org_df_changed['timestamp'].min()\n",
    "y_min_changed = org_df_changed['addr'].min()\n",
    "plot_scatter_map(\"matmul_changed.png\", changed_file_path,\n",
    "                 x_rela_changed, y_rela_changed, x_min_changed, y_min_changed)"
   ]
  },
  {
   "cell_type": "code",
   "execution_count": null,
   "metadata": {},
   "outputs": [],
   "source": []
  }
 ],
 "metadata": {
  "kernelspec": {
   "display_name": "Python 3 (ipykernel)",
   "language": "python",
   "name": "python3"
  },
  "language_info": {
   "codemirror_mode": {
    "name": "ipython",
    "version": 3
   },
   "file_extension": ".py",
   "mimetype": "text/x-python",
   "name": "python",
   "nbconvert_exporter": "python",
   "pygments_lexer": "ipython3",
   "version": "3.10.12"
  }
 },
 "nbformat": 4,
 "nbformat_minor": 2
}
